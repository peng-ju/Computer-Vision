{
 "cells": [
  {
   "cell_type": "code",
   "execution_count": 233,
   "id": "ed341b09",
   "metadata": {},
   "outputs": [],
   "source": [
    "import os\n",
    "import numpy as np\n",
    "import matplotlib.pyplot as plt\n",
    "import matplotlib.image as mpimg\n",
    "import cv2 as cv\n",
    "from numpy.linalg import inv\n",
    "from numpy import linalg as LA\n",
    "import math\n",
    "from random import sample\n",
    "from scipy.optimize import least_squares\n",
    "import glob\n",
    "import BitVector\n",
    "import numpy as np\n",
    "import torch\n",
    "import torch.nn as nn\n",
    "from sklearn import svm\n",
    "from sklearn.metrics import confusion_matrix\n",
    "plt.rcParams.update({'figure.max_open_warning': 0})\n",
    "import time\n",
    "\n",
    "import torch\n",
    "from torch import nn, optim\n",
    "from PIL import Image\n",
    "from torch.autograd import Variable\n",
    "from torch.utils.data import Dataset, DataLoader\n",
    "from torchvision import transforms\n",
    "\n",
    "from scipy.sparse.linalg import eigsh"
   ]
  },
  {
   "cell_type": "markdown",
   "id": "d3194422",
   "metadata": {},
   "source": [
    "# TASK 1: PCA, LDA\n",
    "- read the image and do normalization\n",
    "- use computation trick to get eigenvectors from SVD\n",
    "- Choose the eigenvectors with the k largest eigenvalue as the feature vectors.\n",
    "- Project the image onto the feature vectors.\n",
    "- Use my nearest neigbor algorothm to classify the image\n",
    "- For PCA, we extract feature vectors from covariance matrix\n",
    "- For LDA, we extract feature vectors from that maximize between class scatter and minimize within class scatter\n",
    "\n",
    "### From my implementation, LDA and PCA performs equally good. LDA performs a little bit better than PCA when feature number are small."
   ]
  },
  {
   "cell_type": "code",
   "execution_count": 234,
   "id": "1549b6e4",
   "metadata": {},
   "outputs": [],
   "source": [
    "Path = 'F:/Python/Computer_Vision/HW10'\n",
    "\n",
    "os.chdir('F:/Python/Computer_Vision/HW10')\n",
    "Face_train = Path + '/FaceRecognition/train'\n",
    "Face_test = Path + '/FaceRecognition/test'"
   ]
  },
  {
   "cell_type": "code",
   "execution_count": 235,
   "id": "5f31c42a",
   "metadata": {},
   "outputs": [],
   "source": [
    "# read the categories images\n",
    "os.chdir(Face_train)\n",
    "train_img = glob.glob('*.png')\n",
    "train_img;\n",
    "\n",
    "x_train = []\n",
    "y_train = []\n",
    "\n",
    "for i in train_img:\n",
    "    y, _ = i.split('_')\n",
    "    y = int(y)\n",
    "    \n",
    "    x = cv.imread(i)\n",
    "    x_gray = cv.cvtColor(x, cv.COLOR_BGR2GRAY)\n",
    "    x_vect = np.ravel(x_gray)\n",
    "    x_norm = x_vect/np.linalg.norm(x_vect)\n",
    "    \n",
    "    x_train.append(x_norm)\n",
    "    y_train.append(y)\n",
    "\n",
    "x_train = np.array(x_train)\n",
    "y_train = np.array(y_train)\n",
    "\n",
    "\n",
    "os.chdir(Face_test)\n",
    "test_img = glob.glob('*.png')\n",
    "test_img;\n",
    "\n",
    "x_test = []\n",
    "y_test = []\n",
    "\n",
    "for i in test_img:\n",
    "    y, _ = i.split('_')\n",
    "    y = int(y)\n",
    "    \n",
    "    x = cv.imread(i)\n",
    "    x_gray = cv.cvtColor(x, cv.COLOR_BGR2GRAY)\n",
    "    x_vect = np.ravel(x_gray)\n",
    "    x_norm = x_vect/np.linalg.norm(x_vect)\n",
    "    \n",
    "    x_test.append(x_norm)\n",
    "    y_test.append(y)\n",
    "\n",
    "x_test = np.array(x_test)\n",
    "y_test = np.array(y_test)"
   ]
  },
  {
   "cell_type": "code",
   "execution_count": 236,
   "id": "e644bd81",
   "metadata": {},
   "outputs": [
    {
     "data": {
      "text/plain": [
       "(630,)"
      ]
     },
     "execution_count": 236,
     "metadata": {},
     "output_type": "execute_result"
    }
   ],
   "source": [
    "x_test.shape\n",
    "y_test.shape"
   ]
  },
  {
   "cell_type": "code",
   "execution_count": 237,
   "id": "8a900655",
   "metadata": {},
   "outputs": [],
   "source": [
    "# from train to eigenvectors\n",
    "m = x_train.mean(axis = 0)\n",
    "X = (x_train - m).T\n",
    "C = X.T@X\n",
    "_, eigen_val, eigen_vect = np.linalg.svd(C)\n",
    "p = 10\n",
    "\n",
    "\n",
    "eigen_vector = []\n",
    "for i in range(p):\n",
    "    vect = eigen_vect[i]\n",
    "    vect = X@vect\n",
    "    vect = vect/np.linalg.norm(vect)\n",
    "    eigen_vector.append(vect)\n",
    "eigen_vector = np.array(eigen_vector)"
   ]
  },
  {
   "cell_type": "code",
   "execution_count": 238,
   "id": "2fab784c",
   "metadata": {},
   "outputs": [
    {
     "data": {
      "text/plain": [
       "(10, 16384)"
      ]
     },
     "execution_count": 238,
     "metadata": {},
     "output_type": "execute_result"
    }
   ],
   "source": [
    "def eigen_feature_cal(x_train, p):\n",
    "    m = x_train.mean(axis = 0)\n",
    "    X = (x_train - m).T\n",
    "    C = X.T@X\n",
    "    _, eigen_val, eigen_vect = np.linalg.svd(C)\n",
    "    \n",
    "\n",
    "    # construct the final eigen vector\n",
    "    eigen_vector = []\n",
    "    for i in range(p):\n",
    "        vect = eigen_vect[i]\n",
    "        vect = X@vect\n",
    "        vect = vect/np.linalg.norm(vect) # normalize again\n",
    "        eigen_vector.append(vect)\n",
    "    eigen_vector = np.array(eigen_vector)\n",
    "    \n",
    "    \n",
    "    return eigen_vector\n",
    "\n",
    "eigen_feature_cal(x_train, 10).shape"
   ]
  },
  {
   "cell_type": "code",
   "execution_count": 239,
   "id": "786b18cf",
   "metadata": {},
   "outputs": [],
   "source": [
    "def PCA_feature_cal(x_train, p):\n",
    "    m = x_train.mean(axis = 0)\n",
    "    X = (x_train - m).T\n",
    "    C = X.T@X\n",
    "    _, eigen_val, eigen_vect = np.linalg.svd(C)\n",
    "    \n",
    "\n",
    "    # construct the final eigen vector\n",
    "    eigen_vector = []\n",
    "    for i in range(p):\n",
    "        vect = eigen_vect[i]\n",
    "        vect = X@vect\n",
    "        vect = vect/np.linalg.norm(vect) # normalize again\n",
    "        eigen_vector.append(vect)\n",
    "    eigen_vector = np.array(eigen_vector)\n",
    "\n",
    "    return eigen_vector.T, m\n",
    "\n",
    "PCA_feature, mean_vect = PCA_feature_cal(x_train, 10)"
   ]
  },
  {
   "cell_type": "code",
   "execution_count": 240,
   "id": "5bc8aad3",
   "metadata": {},
   "outputs": [],
   "source": [
    "x_train_vect = (PCA_feature.T @ (x_train - mean_vect).T).T"
   ]
  },
  {
   "cell_type": "code",
   "execution_count": 241,
   "id": "baaf8e05",
   "metadata": {},
   "outputs": [
    {
     "data": {
      "text/plain": [
       "(630, 10)"
      ]
     },
     "execution_count": 241,
     "metadata": {},
     "output_type": "execute_result"
    }
   ],
   "source": [
    "x_train_vect.shape"
   ]
  },
  {
   "cell_type": "code",
   "execution_count": 242,
   "id": "444992b0",
   "metadata": {},
   "outputs": [],
   "source": [
    "m = x_test.mean(axis = 0)\n",
    "x_test_vect = (PCA_feature.T @ (x_test - mean_vect).T).T"
   ]
  },
  {
   "cell_type": "code",
   "execution_count": 243,
   "id": "5f6b4264",
   "metadata": {},
   "outputs": [],
   "source": [
    "# before NN\n",
    "x_train_vect, y_train;\n",
    "x_test_vect, y_test;"
   ]
  },
  {
   "cell_type": "code",
   "execution_count": 244,
   "id": "a3191505",
   "metadata": {},
   "outputs": [
    {
     "data": {
      "text/plain": [
       "1"
      ]
     },
     "execution_count": 244,
     "metadata": {},
     "output_type": "execute_result"
    }
   ],
   "source": [
    "def singleNN_predict(x_train_vect, y_train, x_test_vect_single):\n",
    "    dist = [0]*len(x_train_vect);\n",
    "    \n",
    "    for i in range(len(dist)):\n",
    "        dist[i] = np.linalg.norm(x_train_vect[i] - x_test_vect_single)\n",
    "    \n",
    "    # find the clost neigbor\n",
    "    label_pos = np.argmin(dist)\n",
    "    \n",
    "    return y_train[label_pos]\n",
    "\n",
    "singleNN_predict(x_train_vect, y_train, x_test_vect[0])    "
   ]
  },
  {
   "cell_type": "code",
   "execution_count": 254,
   "id": "a89023fc",
   "metadata": {},
   "outputs": [
    {
     "data": {
      "text/plain": [
       "Text(0.5, 1.0, 'PCA')"
      ]
     },
     "execution_count": 254,
     "metadata": {},
     "output_type": "execute_result"
    },
    {
     "data": {
      "image/png": "[encoded data removed]",
      "text/plain": [
       "<Figure size 400x300 with 1 Axes>"
      ]
     },
     "metadata": {},
     "output_type": "display_data"
    }
   ],
   "source": [
    "# calculate the accuracy\n",
    "P_max = 20\n",
    "\n",
    "PCA_accu = [0]*20\n",
    "\n",
    "for p in range(1,len(PCA_accu)):\n",
    "    \n",
    "    PCA_feature, mean_vect = PCA_feature_cal(x_train, p)\n",
    "    x_train_vect = (PCA_feature.T @ (x_train - mean_vect).T).T\n",
    "    x_test_vect = (PCA_feature.T @ (x_test - mean_vect).T).T\n",
    "    \n",
    "    T_count = 0\n",
    "    for i in range(len(x_test_vect)):\n",
    "        if singleNN_predict(x_train_vect, y_train, x_test_vect[i]) == y_test[i]:\n",
    "            T_count += 1\n",
    "        \n",
    "    PCA_accu[p] = T_count/len(x_test_vect)\n",
    "\n",
    "plt.figure(figsize=(4, 3))   \n",
    "plt.plot(range(1,P_max),PCA_accu[1:])\n",
    "plt.xlabel('Num of feature')\n",
    "plt.ylabel('Accuracy')\n",
    "plt.title('PCA')"
   ]
  },
  {
   "cell_type": "markdown",
   "id": "d90444e5",
   "metadata": {},
   "source": [
    "# LDA\n",
    "- Calculate S_B and S_W matrix from trainig data\n",
    "- Use the Yu and Yang algorithm to calculate the eigen vectors of inv(S_W)@ S_B"
   ]
  },
  {
   "cell_type": "code",
   "execution_count": 246,
   "id": "94bb219d",
   "metadata": {},
   "outputs": [],
   "source": [
    "x_train, y_train;\n",
    "m = x_train.mean(axis = 0)\n",
    "\n",
    "# calculate S_B matrix with the trick\n",
    "Classes = np.unique(y_train)\n",
    "Classes_m = np.zeros((len(Classes),x_train.shape[1]))\n",
    "S_W = np.zeros((x_train.shape[1],x_train.shape[1]))\n",
    "S_B = np.zeros((x_train.shape[1],x_train.shape[1]))\n",
    "\n",
    "for i in range(len(Classes)):\n",
    "    c_data = x_train[y_train == Classes[i]]    \n",
    "    Classes_m[i] = c_data.mean(axis = 0) \n",
    "    \n",
    "    S_B_i = (1/len(Classes))*np.outer(Classes_m[i] - m,Classes_m[i] - m)\n",
    "    S_B += S_B_i\n",
    "    \n",
    "    S_W_i = (1/len(Classes))*(1/len(c_data))*np.matmul((c_data-Classes_m[i]).T,(c_data-Classes_m[i]))\n",
    "    S_W += S_W_i\n",
    "    \n",
    "X = Classes_m - m\n",
    "_, eigen_val, eigen_vect = np.linalg.svd(X@X.T)\n",
    "\n",
    "S_B_vect = []\n",
    "\n",
    "for i in range(len(eigen_val)):\n",
    "    if eigen_val[i] > 1e-3:\n",
    "        S_B_vect.append(eigen_vect[i]/np.linalg.norm(eigen_vect[i]))\n",
    "\n",
    "S_B_vect = (X.T @ (np.array(S_B_vect)).T).T"
   ]
  },
  {
   "cell_type": "code",
   "execution_count": 247,
   "id": "2f049e1a",
   "metadata": {},
   "outputs": [],
   "source": [
    "D_B = S_B_vect @ S_B @ S_B_vect.T\n",
    "Z = S_B_vect.T @ inv(D_B)\n",
    "\n",
    "D_W = Z.T@ S_W @ Z\n",
    "_, eigen_val, eigen_vect = np.linalg.svd(D_W)\n",
    "\n",
    "U = eigen_vect[::-1]\n",
    "eigen_vect = (U @Z.T).T"
   ]
  },
  {
   "cell_type": "code",
   "execution_count": 255,
   "id": "ff7a5bdc",
   "metadata": {},
   "outputs": [
    {
     "data": {
      "text/plain": [
       "Text(0.5, 1.0, 'LDA')"
      ]
     },
     "execution_count": 255,
     "metadata": {},
     "output_type": "execute_result"
    },
    {
     "data": {
      "image/png": "[encoded data removed]",
      "text/plain": [
       "<Figure size 400x300 with 1 Axes>"
      ]
     },
     "metadata": {},
     "output_type": "display_data"
    }
   ],
   "source": [
    "# LDA\n",
    "\n",
    "P_max = 20\n",
    "\n",
    "LDA_accu = [0]*20\n",
    "\n",
    "for p in range(1,len(LDA_accu)):\n",
    "    \n",
    "    Classes_m;\n",
    "    \n",
    "    LDA_feature = eigen_vect[:,0:p]\n",
    "    x_train_vect = (LDA_feature.T @ (x_train - m).T).T\n",
    "    x_test_vect = (LDA_feature.T @ (x_test - m).T).T\n",
    "    \n",
    "    T_count = 0\n",
    "    for i in range(len(x_test_vect)):\n",
    "        if singleNN_predict(x_train_vect, y_train, x_test_vect[i]) == y_test[i]:\n",
    "            T_count += 1\n",
    "        \n",
    "    LDA_accu[p] = T_count/len(x_test_vect)\n",
    "    #print('Calculation ->', p)\n",
    "\n",
    "plt.figure(figsize=(4, 3))\n",
    "plt.plot(range(1,P_max),LDA_accu[1:])\n",
    "plt.xlabel('Num of feature')\n",
    "plt.ylabel('Accuracy')\n",
    "plt.title('LDA')"
   ]
  },
  {
   "cell_type": "code",
   "execution_count": 249,
   "id": "ca9a2f58",
   "metadata": {},
   "outputs": [
    {
     "data": {
      "text/plain": [
       "<matplotlib.legend.Legend at 0x147286aee88>"
      ]
     },
     "execution_count": 249,
     "metadata": {},
     "output_type": "execute_result"
    },
    {
     "data": {
      "image/png": "[encoded data removed]",
      "text/plain": [
       "<Figure size 400x300 with 1 Axes>"
      ]
     },
     "metadata": {},
     "output_type": "display_data"
    }
   ],
   "source": [
    "# compare\n",
    "plt.figure(figsize=(4, 3))\n",
    "plt.plot(range(1,P_max),LDA_accu[1:], label='LDA')\n",
    "plt.plot(range(1,P_max),PCA_accu[1:], label='PCA')\n",
    "plt.xlabel('Num of feature')\n",
    "plt.ylabel('Accuracy')\n",
    "plt.legend()"
   ]
  },
  {
   "cell_type": "markdown",
   "id": "c002ac8f",
   "metadata": {},
   "source": [
    "# TASK 2: Autoencoder\n",
    "- Extract feature using Autoencoder\n",
    "- Classifier with my own nearest neigbor algorithm\n",
    "- The result are similar to the result from PCA and LDA"
   ]
  },
  {
   "cell_type": "code",
   "execution_count": 250,
   "id": "83015079",
   "metadata": {},
   "outputs": [],
   "source": [
    "class DataBuilder(Dataset):\n",
    "    def __init__(self, path):\n",
    "        self.path = path\n",
    "        self.image_list = [f for f in os.listdir(path) if f.endswith('.png')]\n",
    "        self.label_list = [int(f.split('_')[0]) for f in self.image_list]\n",
    "        self.len = len(self.image_list)\n",
    "        self.aug = transforms.Compose([\n",
    "            transforms.Resize((64, 64)),\n",
    "            transforms.ToTensor(),\n",
    "        ])\n",
    "\n",
    "    def __getitem__(self, index):\n",
    "        fn = os.path.join(self.path, self.image_list[index])\n",
    "        x = Image.open(fn).convert('RGB')\n",
    "        x = self.aug(x)\n",
    "        return {'x': x, 'y': self.label_list[index]}\n",
    "\n",
    "    def __len__(self):\n",
    "        return self.len\n",
    "\n",
    "\n",
    "class Autoencoder(nn.Module):\n",
    "\n",
    "    def __init__(self, encoded_space_dim):\n",
    "        super().__init__()\n",
    "        self.encoded_space_dim = encoded_space_dim\n",
    "        ### Convolutional section\n",
    "        self.encoder_cnn = nn.Sequential(\n",
    "            nn.Conv2d(3, 8, 3, stride=2, padding=1),\n",
    "            nn.LeakyReLU(True),\n",
    "            nn.Conv2d(8, 16, 3, stride=2, padding=1),\n",
    "            nn.LeakyReLU(True),\n",
    "            nn.Conv2d(16, 32, 3, stride=2, padding=1),\n",
    "            nn.LeakyReLU(True),\n",
    "            nn.Conv2d(32, 64, 3, stride=2, padding=1),\n",
    "            nn.LeakyReLU(True)\n",
    "        )\n",
    "        ### Flatten layer\n",
    "        self.flatten = nn.Flatten(start_dim=1)\n",
    "        ### Linear section\n",
    "        self.encoder_lin = nn.Sequential(\n",
    "            nn.Linear(4 * 4 * 64, 128),\n",
    "            nn.LeakyReLU(True),\n",
    "            nn.Linear(128, encoded_space_dim * 2)\n",
    "        )\n",
    "        self.decoder_lin = nn.Sequential(\n",
    "            nn.Linear(encoded_space_dim, 128),\n",
    "            nn.LeakyReLU(True),\n",
    "            nn.Linear(128, 4 * 4 * 64),\n",
    "            nn.LeakyReLU(True)\n",
    "        )\n",
    "        self.unflatten = nn.Unflatten(dim=1,\n",
    "                                      unflattened_size=(64, 4, 4))\n",
    "        self.decoder_conv = nn.Sequential(\n",
    "            nn.ConvTranspose2d(64, 32, 3, stride=2,\n",
    "                               padding=1, output_padding=1),\n",
    "            nn.BatchNorm2d(32),\n",
    "            nn.LeakyReLU(True),\n",
    "            nn.ConvTranspose2d(32, 16, 3, stride=2,\n",
    "                               padding=1, output_padding=1),\n",
    "            nn.BatchNorm2d(16),\n",
    "            nn.LeakyReLU(True),\n",
    "            nn.ConvTranspose2d(16, 8, 3, stride=2,\n",
    "                               padding=1, output_padding=1),\n",
    "            nn.BatchNorm2d(8),\n",
    "            nn.LeakyReLU(True),\n",
    "            nn.ConvTranspose2d(8, 3, 3, stride=2,\n",
    "                               padding=1, output_padding=1)\n",
    "        )\n",
    "\n",
    "    def encode(self, x):\n",
    "        x = self.encoder_cnn(x)\n",
    "        x = self.flatten(x)\n",
    "        x = self.encoder_lin(x)\n",
    "        mu, logvar = x[:, :self.encoded_space_dim], x[:, self.encoded_space_dim:]\n",
    "        return mu, logvar\n",
    "\n",
    "    def decode(self, z):\n",
    "        x = self.decoder_lin(z)\n",
    "        x = self.unflatten(x)\n",
    "        x = self.decoder_conv(x)\n",
    "        x = torch.sigmoid(x)\n",
    "        return x\n",
    "\n",
    "    @staticmethod\n",
    "    def reparameterize(mu, logvar):\n",
    "        std = logvar.mul(0.5).exp_()\n",
    "        eps = Variable(std.data.new(std.size()).normal_())\n",
    "        return eps.mul(std).add_(mu)\n",
    "\n",
    "\n",
    "class VaeLoss(nn.Module):\n",
    "    def __init__(self):\n",
    "        super(VaeLoss, self).__init__()\n",
    "        self.mse_loss = nn.MSELoss(reduction=\"sum\")\n",
    "\n",
    "    def forward(self, xhat, x, mu, logvar):\n",
    "        loss_MSE = self.mse_loss(xhat, x)\n",
    "        loss_KLD = -0.5 * torch.sum(1 + logvar - mu.pow(2) - logvar.exp())\n",
    "        return loss_MSE + loss_KLD\n",
    "\n",
    "\n",
    "def train(epoch):\n",
    "    model.train()\n",
    "    train_loss = 0\n",
    "\n",
    "    for batch_idx, data in enumerate(trainloader):\n",
    "        optimizer.zero_grad()\n",
    "        mu, logvar = model.encode(data['x'])\n",
    "        z = model.reparameterize(mu, logvar)\n",
    "        xhat = model.decode(z)\n",
    "        loss = vae_loss(xhat, data['x'], mu, logvar)\n",
    "        loss.backward()\n",
    "        train_loss += loss.item()\n",
    "        optimizer.step()\n",
    "\n",
    "    print('====> Epoch: {} Average loss: {:.4f}'.format(\n",
    "        epoch, train_loss / len(trainloader.dataset)))\n",
    "\n",
    "\n",
    "##################################\n",
    "# Change these\n",
    "p_list = [3, 8, 16] \n",
    "Auto_accu = []\n",
    "for p in p_list:\n",
    "    training = False\n",
    "    TRAIN_DATA_PATH = 'F:/Python/Computer_Vision/HW10/FaceRecognition/train/'\n",
    "    EVAL_DATA_PATH = 'F:/Python/Computer_Vision/HW10/FaceRecognition/test/'\n",
    "    LOAD_PATH = f'F:/Python/Computer_Vision/HW10/weights/model_{p}.pt'\n",
    "    OUT_PATH = 'F:/Python/Computer_Vision/HW10/autoencoder'\n",
    "    ##################################\n",
    "\n",
    "    model = Autoencoder(p)\n",
    "\n",
    "    if training:\n",
    "        epochs = 100\n",
    "        log_interval = 1\n",
    "        trainloader = DataLoader(\n",
    "            dataset=DataBuilder(TRAIN_DATA_PATH),\n",
    "            batch_size=12,\n",
    "            shuffle=True,\n",
    "        )\n",
    "        optimizer = optim.Adam(model.parameters(), lr=1e-3)\n",
    "        vae_loss = VaeLoss()\n",
    "        for epoch in range(1, epochs + 1):\n",
    "            train(epoch)\n",
    "        torch.save(model.state_dict(), os.path.join(OUT_PATH, f'model_{p}.pt'))\n",
    "    else:\n",
    "        trainloader = DataLoader(\n",
    "            dataset=DataBuilder(TRAIN_DATA_PATH),\n",
    "            batch_size=1,\n",
    "        )\n",
    "        model.load_state_dict(torch.load(LOAD_PATH))\n",
    "        model.eval()\n",
    "\n",
    "        X_train, y_train = [], []\n",
    "        for batch_idx, data in enumerate(trainloader):\n",
    "            mu, logvar = model.encode(data['x'])\n",
    "            z = mu.detach().cpu().numpy().flatten()\n",
    "            X_train.append(z)\n",
    "            y_train.append(data['y'].item())\n",
    "        X_train = np.stack(X_train)\n",
    "        y_train = np.array(y_train)\n",
    "\n",
    "        testloader = DataLoader(\n",
    "            dataset=DataBuilder(EVAL_DATA_PATH),\n",
    "            batch_size=1,\n",
    "        )\n",
    "        X_test, y_test = [], []\n",
    "        for batch_idx, data in enumerate(testloader):\n",
    "            mu, logvar = model.encode(data['x'])\n",
    "            z = mu.detach().cpu().numpy().flatten()\n",
    "            X_test.append(z)\n",
    "            y_test.append(data['y'].item())\n",
    "        X_test = np.stack(X_test)\n",
    "        y_test = np.array(y_test)\n",
    "\n",
    "        ##################################\n",
    "        # Your code starts here\n",
    "        T_count = 0\n",
    "        for i in range(len(x_test_vect)):\n",
    "            if singleNN_predict(X_train, y_train, X_test[i]) == y_test[i]:\n",
    "                T_count += 1\n",
    "\n",
    "        Auto_accu.append(T_count/len(x_test_vect))\n",
    "        \n",
    "        ##################################"
   ]
  },
  {
   "cell_type": "code",
   "execution_count": 251,
   "id": "06105379",
   "metadata": {},
   "outputs": [
    {
     "data": {
      "text/plain": [
       "Text(0, 0.5, 'Accuracy')"
      ]
     },
     "execution_count": 251,
     "metadata": {},
     "output_type": "execute_result"
    },
    {
     "data": {
      "image/png": "[encoded data removed]",
      "text/plain": [
       "<Figure size 400x300 with 1 Axes>"
      ]
     },
     "metadata": {},
     "output_type": "display_data"
    }
   ],
   "source": [
    "plt.figure(figsize=(4, 3))\n",
    "plt.plot(p_list,Auto_accu)\n",
    "plt.xlabel('Num of feature')\n",
    "plt.ylabel('Accuracy')"
   ]
  },
  {
   "cell_type": "code",
   "execution_count": 252,
   "id": "b7768275",
   "metadata": {},
   "outputs": [
    {
     "data": {
      "text/plain": [
       "<matplotlib.legend.Legend at 0x14726a76408>"
      ]
     },
     "execution_count": 252,
     "metadata": {},
     "output_type": "execute_result"
    },
    {
     "data": {
      "image/png": "[encoded data removed]",
      "text/plain": [
       "<Figure size 400x300 with 1 Axes>"
      ]
     },
     "metadata": {},
     "output_type": "display_data"
    }
   ],
   "source": [
    "# compare\n",
    "plt.figure(figsize=(4, 3))\n",
    "plt.plot(range(1,P_max),LDA_accu[1:], label='LDA')\n",
    "plt.plot(range(1,P_max),PCA_accu[1:], label='PCA')\n",
    "plt.plot(p_list,Auto_accu, label='Autoencoder')\n",
    "plt.xlabel('Num of feature')\n",
    "plt.ylabel('Accuracy')\n",
    "plt.legend()"
   ]
  },
  {
   "cell_type": "markdown",
   "id": "1599ff17",
   "metadata": {},
   "source": [
    "# TASK 3: Object Detection using Cascaded AdaBoost Classifiers\n",
    "\n",
    "- step1: extract features with harr filter\n",
    "- For the strong classifier at each stage of the cascade, it has high TP rate and moderate FP rate.\n",
    "- The strong classifier contains several weak classifiers.\n",
    "- To construct strong classifier(H(x)) for each Cascade, find weak classifiers (h_t) that has the lowest mis-classification rate. \n",
    "- Adjust the weights after select each weak classifier, so that the next weak classifier focus on the misclassified result.\n",
    "- Combine the result of weak classifiers, find the threshold with TP = 1 and small FP, stop when FP < FP_threshold. \n",
    "- For the next Cascade, set corrected classified negative weights to 0 (TN).\n",
    "\n",
    "\n",
    "### Note\n",
    "- In my implementation, I set postive as 1, negative as -1"
   ]
  },
  {
   "cell_type": "markdown",
   "id": "979a772b",
   "metadata": {},
   "source": [
    "### Main part that doesn't work\n",
    "\n",
    "- The feature extractor doesn't work good, I can't find a threshold for each Cascade stage that makes TP=0 and FP small. It would be great if we can be provided with ways to extract the feature. I was trying to repeat the 2020 hw from Brain, but the method doesn't seems to work well."
   ]
  },
  {
   "cell_type": "markdown",
   "id": "e6446a02",
   "metadata": {},
   "source": [
    "### My expectation, if the code works, the FN should decrease to zero as we increase the stage number, its value can be infinite small.\n",
    "\n",
    "### FP will increase as the stage number increases, as a side effect of increased FN. In real practice, we need to stop the program before FP become to large. "
   ]
  },
  {
   "cell_type": "markdown",
   "id": "ab7c0b5e",
   "metadata": {},
   "source": [
    "### Even though my own Adaboost doesn't work, I use scikit learn to do Adaboost on the same data, the result is good -- shown at the end."
   ]
  },
  {
   "cell_type": "markdown",
   "id": "e2b790ab",
   "metadata": {},
   "source": [
    "### step1: extract features with filter"
   ]
  },
  {
   "cell_type": "code",
   "execution_count": 305,
   "id": "dc3fbbc7",
   "metadata": {},
   "outputs": [],
   "source": [
    "# define a function to calculte feature from a gray scale image\n",
    "def feature_extract(x_gray):\n",
    "    H,W = x_gray.shape\n",
    "\n",
    "    feature = []\n",
    "\n",
    "    for i in range(1,H//2):\n",
    "        kernel = np.array([[1]*i + [-1]*i]).T\n",
    "        identity = cv.filter2D(src=x_gray, ddepth=cv.CV_64F, kernel=kernel)\n",
    "        identity_vect = np.ravel(identity)\n",
    "        feature.append(identity_vect)\n",
    "\n",
    "#     for i in range(1,W//2):\n",
    "#         kernel = np.array([[1]*i + [-1]*i])\n",
    "#         identity = cv.filter2D(src=x_gray, ddepth=-1, kernel=kernel)\n",
    "#         identity_vect = np.ravel(identity)\n",
    "#         feature.append(identity_vect)\n",
    "\n",
    "    feature = np.array(feature)\n",
    "    feature = np.ravel(feature)\n",
    "    \n",
    "    return feature"
   ]
  },
  {
   "cell_type": "code",
   "execution_count": 306,
   "id": "21e6ad11",
   "metadata": {},
   "outputs": [],
   "source": [
    "# read image\n",
    "Car_train = Path + '/CarDetection/train'\n",
    "Car_train_P = Car_train + '/positive'\n",
    "Car_train_N = Car_train + '/negative'\n",
    "\n",
    "Car_test = Path + '/CarDetection/test'\n",
    "Car_test_P = Car_test + '/positive'\n",
    "Car_test_N = Car_test + '/negative'\n",
    "\n",
    "x_train = []\n",
    "x_test = []\n",
    "y_train = []\n",
    "y_test = []\n",
    "\n",
    "os.chdir(Car_train_P)\n",
    "train_img = glob.glob('*.png')\n",
    "\n",
    "for i in train_img:\n",
    "    \n",
    "    x = cv.imread(i)\n",
    "    x_gray = cv.cvtColor(x, cv.COLOR_BGR2GRAY)\n",
    "    \n",
    "    x_feature = feature_extract(x_gray)\n",
    "    \n",
    "    x_train.append(x_feature)\n",
    "    y_train.append(1)\n",
    "    \n",
    "os.chdir(Car_train_N)\n",
    "train_img = glob.glob('*.png')\n",
    "\n",
    "for i in train_img:\n",
    "    \n",
    "    x = cv.imread(i)\n",
    "    x_gray = cv.cvtColor(x, cv.COLOR_BGR2GRAY)\n",
    "    x_feature = feature_extract(x_gray)\n",
    "    \n",
    "    x_train.append(x_feature)\n",
    "    y_train.append(-1)\n",
    "    \n",
    "os.chdir(Car_test_N)\n",
    "test_img = glob.glob('*.png')\n",
    "\n",
    "for i in test_img:\n",
    "    \n",
    "    x = cv.imread(i)\n",
    "    x_gray = cv.cvtColor(x, cv.COLOR_BGR2GRAY)\n",
    "    x_feature = feature_extract(x_gray)\n",
    "    \n",
    "    x_test.append(x_feature)\n",
    "    y_test.append(-1)    \n",
    "\n",
    "    \n",
    "os.chdir(Car_test_P)\n",
    "test_img = glob.glob('*.png')\n",
    "\n",
    "for i in test_img:\n",
    "    \n",
    "    x = cv.imread(i)\n",
    "    x_gray = cv.cvtColor(x, cv.COLOR_BGR2GRAY)\n",
    "    x_feature = feature_extract(x_gray)\n",
    "    \n",
    "    x_test.append(x_feature)\n",
    "    y_test.append(1)  \n",
    "\n",
    "x_test = np.array(x_test)\n",
    "x_train = np.array(x_train)\n",
    "y_test = np.array(y_test)\n",
    "y_train = np.array(y_train)"
   ]
  },
  {
   "cell_type": "code",
   "execution_count": 297,
   "id": "6a36e3ca",
   "metadata": {},
   "outputs": [
    {
     "name": "stdout",
     "output_type": "stream",
     "text": [
      "[[ 1 -1]]\n",
      "[[ 1  1 -1 -1]]\n",
      "[[ 1  1  1 -1 -1 -1]]\n",
      "[[ 1  1  1  1 -1 -1 -1 -1]]\n",
      "[[ 1  1  1  1  1 -1 -1 -1 -1 -1]]\n",
      "[[ 1  1  1  1  1  1 -1 -1 -1 -1 -1 -1]]\n",
      "[[ 1  1  1  1  1  1  1 -1 -1 -1 -1 -1 -1 -1]]\n",
      "[[ 1  1  1  1  1  1  1  1 -1 -1 -1 -1 -1 -1 -1 -1]]\n",
      "[[ 1  1  1  1  1  1  1  1  1 -1 -1 -1 -1 -1 -1 -1 -1 -1]]\n"
     ]
    },
    {
     "data": {
      "text/plain": [
       "(22400,)"
      ]
     },
     "execution_count": 297,
     "metadata": {},
     "output_type": "execute_result"
    }
   ],
   "source": [
    "# from img to feature\n",
    "x_gray\n",
    "H,W = x_gray.shape\n",
    "\n",
    "feature = []\n",
    "\n",
    "for i in range(1,H//2):\n",
    "    kernel = np.array([[1]*i + [-1]*i]).T\n",
    "    print(kernel.T)\n",
    "    identity = cv.filter2D(src=x_gray, ddepth= cv.CV_64F, kernel=kernel)\n",
    "#     print(identity.shape)\n",
    "    identity_vect = np.ravel(identity)\n",
    "    feature.append(identity_vect)\n",
    "    \n",
    "for i in range(1,W//2):\n",
    "    kernel = np.array([[1]*i + [-1]*i])\n",
    "    identity = cv.filter2D(src=x_gray, ddepth=-1, kernel=kernel)\n",
    "    identity_vect = np.ravel(identity)\n",
    "    feature.append(identity_vect)\n",
    "\n",
    "feature = np.array(feature)\n",
    "feature = np.ravel(feature)\n",
    "feature.shape"
   ]
  },
  {
   "cell_type": "code",
   "execution_count": 276,
   "id": "f253f009",
   "metadata": {},
   "outputs": [
    {
     "data": {
      "text/plain": [
       "((2468, 22400), (20, 40))"
      ]
     },
     "execution_count": 276,
     "metadata": {},
     "output_type": "execute_result"
    }
   ],
   "source": [
    "x_train.shape, x_gray.shape"
   ]
  },
  {
   "cell_type": "markdown",
   "id": "3547d903",
   "metadata": {},
   "source": [
    "# weak classifier\n"
   ]
  },
  {
   "cell_type": "code",
   "execution_count": 319,
   "id": "3cd079a1",
   "metadata": {
    "scrolled": false
   },
   "outputs": [
    {
     "name": "stdout",
     "output_type": "stream",
     "text": [
      "3418 1 85.0 357 0.17933951833870243\n"
     ]
    },
    {
     "data": {
      "text/plain": [
       "0.043031930923461914"
      ]
     },
     "execution_count": 319,
     "metadata": {},
     "output_type": "execute_result"
    },
    {
     "data": {
      "image/png": "[encoded data removed]",
      "text/plain": [
       "<Figure size 400x300 with 1 Axes>"
      ]
     },
     "metadata": {},
     "output_type": "display_data"
    },
    {
     "data": {
      "image/png": "[encoded data removed]",
      "text/plain": [
       "<Figure size 400x300 with 1 Axes>"
      ]
     },
     "metadata": {},
     "output_type": "display_data"
    },
    {
     "data": {
      "image/png": "[encoded data removed]",
      "text/plain": [
       "<Figure size 400x300 with 1 Axes>"
      ]
     },
     "metadata": {},
     "output_type": "display_data"
    }
   ],
   "source": [
    "# search for the best weak classifier\n",
    "time_b = time.time()\n",
    "x_train, y_train;\n",
    "\n",
    "# initial set \n",
    "weights = np.ones(len(y_train))\n",
    "weights[y_train == 1] = 0.5*1/(y_train==1).sum()\n",
    "weights[y_train == -1] =0.5*1/(y_train==-1).sum()\n",
    "# weights = np.random.rand(len(y_train))\n",
    "\n",
    "clf_best = None\n",
    "err_best = np.inf\n",
    "loss = [0]*x_train[0]\n",
    "for i in range(3418, 3419):#len(x_train[0])\n",
    "    feature = x_train[:,i]\n",
    "    # speed up by sorting\n",
    "    Sort = np.array([feature, y_train.T, weights.T]).T\n",
    "    Sort = list(Sort)\n",
    "    Sort.sort(key=lambda x: x[0])\n",
    "    Sort = np.array(Sort)\n",
    "    # feature, label, weights\n",
    "    f, l, w = Sort.T\n",
    "    \n",
    "    T_n = np.sum(w[l == -1])\n",
    "    T_p = np.sum(w[l == 1])\n",
    "    \n",
    "    # get the pos weights and negative weights\n",
    "    weights_p = w.copy()\n",
    "    weights_p[l==-1] = 0\n",
    "    weights_n = w.copy()\n",
    "    weights_n[l==1] = 0\n",
    "    \n",
    "    # cumsum to avoid third loop, x_axis should be distinct feature value \n",
    "    # unique value and position\n",
    "    pos_list = []\n",
    "    unique_list = np.unique(f)\n",
    "    pos_u = 1\n",
    "    while pos_u < len(f):\n",
    "        if f[pos_u-1] < f[pos_u]:\n",
    "            pos_list.append(pos_u-1)            \n",
    "        pos_u += 1\n",
    "        \n",
    "    weights_p_c = np.cumsum(weights_p)\n",
    "    weights_n_c = np.cumsum(weights_n)\n",
    "    \n",
    "    # smaller error is aimed\n",
    "#     err_p = weights_p_c[pos_list] + np.array([T_n]*len(pos_list)) - weights_n_c[pos_list] # always positive\n",
    "#     err_n = weights_n_c[pos_list] + np.array([T_p]*len(pos_list)) - weights_p_c[pos_list]\n",
    "    err_p = weights_p_c[pos_list] + T_n - weights_n_c[pos_list] # always positive\n",
    "    err_n = weights_n_c[pos_list] + T_p - weights_p_c[pos_list]\n",
    "\n",
    "    err_p_min = min(err_p)\n",
    "    err_n_min = min(err_n)\n",
    "    err_min = min(err_p_min, err_n_min)\n",
    "    \n",
    "    # update the best clf\n",
    "    if err_min < err_best:\n",
    "        err_best = err_min\n",
    "        \n",
    "        if err_p_min < err_n_min:\n",
    "            polar = 1\n",
    "            threshold = unique_list[np.argmin(err_p)]\n",
    "            threshold_pos = np.argmin(err_p)\n",
    "#             res = feature >= threshold\n",
    "        else:\n",
    "            polar = -1\n",
    "            threshold = unique_list[np.argmin(err_n)]\n",
    "            threshold_pos = np.argmin(err_n)\n",
    "#             res = feature <= threshold\n",
    "    \n",
    "        clf_best = [i, threshold, polar, err_min, res]\n",
    "    \n",
    "        print(i, polar, threshold,threshold_pos, err_min)\n",
    "\n",
    "    y_pred = np.ones(y_train.shape)\n",
    "    if polar==1:\n",
    "        y_pred[feature < threshold] = -1\n",
    "    else:\n",
    "        y_pred[feature > threshold] = -1\n",
    "        \n",
    "    tn, fp, fn, tp = confusion_matrix((y_train+1)//2, (y_pred+1)//2).ravel()\n",
    "    tpr = tp/(tp+fn)\n",
    "    fpr = fp/(fp+tn)\n",
    "    loss[i] = 1- (tp+tn)/(tn+ fp+ fn+ tp)\n",
    "\n",
    "    \n",
    "    plt.figure(figsize=(4, 3))\n",
    "    plt.plot(f)\n",
    "    plt.title([i, polar, threshold,threshold_pos, err_min])\n",
    "    \n",
    "    plt.figure(figsize=(4, 3))\n",
    "    plt.plot(err_p, label = 'p')\n",
    "    plt.plot(err_n, label = 'n')\n",
    "    plt.legend()\n",
    "    plt.title('Error')\n",
    "    \n",
    "    plt.figure(figsize=(4, 3))\n",
    "    plt.scatter(range(len(weights_p)),weights_p)\n",
    "    plt.title('Weights positive')\n",
    "    \n",
    "# feature.shape   \n",
    "time_e = time.time()\n",
    "time_e - time_b\n",
    "#plt.plot(loss)"
   ]
  },
  {
   "cell_type": "markdown",
   "id": "2303cc61",
   "metadata": {},
   "source": [
    "# implementation of Adaboost"
   ]
  },
  {
   "cell_type": "code",
   "execution_count": 314,
   "id": "3b0536da",
   "metadata": {},
   "outputs": [],
   "source": [
    "# program to adjust weigths after each cascade\n",
    "def weight_adjust_cascade(weights, y_pred, y_train):\n",
    "    weights_new = weights.copy()\n",
    "    for i in range(len(y_pred)):\n",
    "        if y_pred[i]==-1 and y_train[i]==-1:\n",
    "            weights[i] = 0\n",
    "    return weights_new\n",
    "\n",
    "def confidence(error):\n",
    "    beta = error/(1-error)\n",
    "    alpha = 0.5*np.log(1/beta)\n",
    "    return alpha\n",
    "\n",
    "def updata_weight(weight_old, alpha, label_true, label_pred):\n",
    "    weight_new = weights * np.exp(- alpha * y_train * y_pred)/(weights * np.exp(- alpha * y_train * y_pred)).sum()\n",
    "    return weight_new"
   ]
  },
  {
   "cell_type": "code",
   "execution_count": 312,
   "id": "088f2d31",
   "metadata": {},
   "outputs": [],
   "source": [
    "# program to build the weak classifier\n",
    "def weak_classifier(x_train, y_train, weights, Model, feature_selected):\n",
    "    \n",
    "    clf_best = None\n",
    "    err_best = np.inf\n",
    "\n",
    "    for i in range(len(x_train[0])):#len(x_train[0])\n",
    "        \n",
    "        # ignore the feature already have\n",
    "        if i not in feature_selected:\n",
    "\n",
    "\n",
    "            feature = x_train[:,i]\n",
    "            # speed up by sorting\n",
    "            Sort = np.array([feature, y_train.T, weights.T]).T\n",
    "            Sort = list(Sort)\n",
    "            Sort.sort(key=lambda x: x[0])\n",
    "            Sort = np.array(Sort)\n",
    "            # feature, label, weights\n",
    "            f, l, w = Sort.T\n",
    "\n",
    "            T_n = np.sum(w[l == -1])\n",
    "            T_p = np.sum(w[l == 1])\n",
    "\n",
    "            # get the pos weights and negative weights\n",
    "            weights_p = w.copy()\n",
    "            weights_p[l==-1] = 0\n",
    "            weights_n = w.copy()\n",
    "            weights_n[l==1] = 0\n",
    "\n",
    "            # cumsum to avoid third loop, x_axis should be distinct feature value \n",
    "            # unique value and position\n",
    "            pos_list = []\n",
    "            unique_list = np.unique(f)\n",
    "            pos_u = 1\n",
    "            \n",
    "            while pos_u < len(f):\n",
    "                if f[pos_u-1] < f[pos_u]:\n",
    "                    pos_list.append(pos_u-1)            \n",
    "                pos_u += 1\n",
    "\n",
    "            weights_p_c = np.cumsum(weights_p)\n",
    "            weights_n_c = np.cumsum(weights_n)\n",
    "\n",
    "            # smaller error is aimed\n",
    "            err_p = weights_p_c[pos_list] + T_n - weights_n_c[pos_list] # always positive\n",
    "            err_n = weights_n_c[pos_list] + T_p - weights_p_c[pos_list]\n",
    "\n",
    "            err_p_min = min(err_p)\n",
    "            err_n_min = min(err_n)\n",
    "            err_min = min(err_p_min, err_n_min)\n",
    "\n",
    "            # update the best clf\n",
    "            if err_min < err_best:\n",
    "                err_best = err_min\n",
    "\n",
    "                if err_p_min < err_n_min:\n",
    "                    polar = 1\n",
    "                    threshold = unique_list[np.argmin(err_p)]\n",
    "                    threshold_pos = np.argmin(err_p)\n",
    "                else:\n",
    "                    polar = -1\n",
    "                    threshold = unique_list[np.argmin(err_n)]\n",
    "                    threshold_pos = np.argmin(err_n)\n",
    "\n",
    "                clf_best = [i, threshold, polar]\n",
    "\n",
    "#             print(i, polar, threshold,threshold_pos, err_min)\n",
    "\n",
    "    i, threshold, polar = clf_best\n",
    "    # the best feature is chosen\n",
    "    # adjust the threshold to get a high P rate\n",
    "    feature = x_train[:,i]\n",
    "        \n",
    "    y_pred = np.ones(y_train.shape)\n",
    "    if polar == 1:\n",
    "        y_pred[feature < threshold] = -1\n",
    "    else:\n",
    "        y_pred[feature > threshold] = -1\n",
    "         \n",
    "    tn, fp, fn, tp = confusion_matrix((y_train+1)//2, (y_pred+1)//2).ravel()\n",
    "    \n",
    "\n",
    "    \n",
    "    err_model = 1-(tp+tn)/(tn + fp + fn + tp)\n",
    "    alpha = confidence(err_model)\n",
    "    clf_select = [i, threshold, polar,alpha]\n",
    "    weights_new = updata_weight(weights, alpha, y_train, y_pred)\n",
    "    \n",
    "    #     Model = np.append(Model, np.array(clf_best))\n",
    "    Model.append(clf_select)\n",
    "    feature_selected.append(i)\n",
    "    \n",
    "    print('\\n loss is', err_model)\n",
    "    print('\\n TPR is', tp/(tp+fn) )\n",
    "    print('\\n FPR is', fp/(fp+tn) ,'\\n')\n",
    "    \n",
    "    return Model, weights_new, feature_selected\n",
    "\n",
    "# program to adjust the threshold for each cascade\n",
    "def cascade_dec(x_train, y_train, Model):\n",
    "    \n",
    "    predictor_all = np.zeros(y_train.shape)\n",
    "    for weak in Model:\n",
    "#         predictor = np.ones(y_train.shape)\n",
    "        feature_pos , threshold, p, alpha = weak\n",
    "        feature = x_train[:,feature_pos]\n",
    "        predictor = p*(feature-threshold)*alpha\n",
    "\n",
    "#         predictor[feature*p < threshold*p] = -1\n",
    "        predictor_all += predictor*alpha\n",
    "    \n",
    "    # doesn't make sense, as long as there is one misclassificaion, this won't work\n",
    "    pred_threshold = (predictor_all[y_train == 1]).min()  \n",
    "    y_pred =  np.ones(y_train.shape)\n",
    "    y_pred[predictor_all<pred_threshold] = -1\n",
    "\n",
    "    tn, fp, fn, tp = confusion_matrix((y_train+1)//2, (y_pred+1)//2).ravel()\n",
    "    tpr = tp/(tp+fn)\n",
    "    fpr = fp/(fp+tn)\n",
    "\n",
    "    print('\\n cascade TPR is', tpr )\n",
    "    print('\\n cascade FPR is', fpr ,'\\n')\n",
    "    return tpr,fpr,y_pred "
   ]
  },
  {
   "cell_type": "code",
   "execution_count": 225,
   "id": "03811aa5",
   "metadata": {},
   "outputs": [
    {
     "data": {
      "text/plain": [
       "0.997163695299838"
      ]
     },
     "execution_count": 225,
     "metadata": {},
     "output_type": "execute_result"
    }
   ],
   "source": [
    "(tp+tn)/(tn + fp + fn + tp)"
   ]
  },
  {
   "cell_type": "code",
   "execution_count": 313,
   "id": "8181bf19",
   "metadata": {
    "scrolled": false
   },
   "outputs": [
    {
     "name": "stdout",
     "output_type": "stream",
     "text": [
      "\n",
      " loss is 0.1766612641815235\n",
      "\n",
      " TPR is 0.8436619718309859\n",
      "\n",
      " FPR is 0.18486916951080773 \n",
      "\n",
      "\n",
      " cascade TPR is 1.0\n",
      "\n",
      " cascade FPR is 0.9738339021615472 \n",
      "\n",
      "0 th iteration -> \n",
      " [3419, 106.0, 1, 0.769566782674669]\n",
      "\n",
      " loss is 0.24027552674230146\n",
      "\n",
      " TPR is 0.9309859154929577\n",
      "\n",
      " FPR is 0.3094425483503982 \n",
      "\n",
      "\n",
      " cascade TPR is 1.0\n",
      "\n",
      " cascade FPR is 0.9357224118316269 \n",
      "\n",
      "1 th iteration -> \n",
      " [5060, 71.0, 1, 0.5755847697033929]\n",
      "\n",
      " loss is 0.21758508914100483\n",
      "\n",
      " TPR is 0.5154929577464789\n",
      "\n",
      " FPR is 0.10978384527872583 \n",
      "\n",
      "\n",
      " cascade TPR is 1.0\n",
      "\n",
      " cascade FPR is 0.891353811149033 \n",
      "\n",
      "2 th iteration -> \n",
      " [7188, -44.0, -1, 0.6398975939598249]\n",
      "\n",
      " loss is 0.22690437601296598\n",
      "\n",
      " TPR is 0.22816901408450704\n",
      "\n",
      " FPR is 0.006825938566552901 \n",
      "\n",
      "\n",
      " cascade TPR is 1.0\n",
      "\n",
      " cascade FPR is 0.9709897610921502 \n",
      "\n",
      "3 th iteration -> \n",
      " [6221, -762.0, -1, 0.6129370341395184]\n",
      "\n",
      " loss is 0.23014586709886553\n",
      "\n",
      " TPR is 0.2056338028169014\n",
      "\n",
      " FPR is 0.0022753128555176336 \n",
      "\n",
      "\n",
      " cascade TPR is 1.0\n",
      "\n",
      " cascade FPR is 0.9829351535836177 \n",
      "\n",
      "4 th iteration -> \n",
      " [5419, -793.0, -1, 0.6037438732166901]\n",
      "\n",
      " loss is 0.23581847649918963\n",
      "\n",
      " TPR is 0.18169014084507043\n",
      "\n",
      " FPR is 0.0005688282138794084 \n",
      "\n",
      "\n",
      " cascade TPR is 1.0\n",
      "\n",
      " cascade FPR is 0.9852104664391353 \n",
      "\n",
      "5 th iteration -> \n",
      " [7017, -1166.0, -1, 0.5878715077309824]\n",
      "\n",
      " loss is 0.243517017828201\n",
      "\n",
      " TPR is 0.15352112676056337\n",
      "\n",
      " FPR is 0.0 \n",
      "\n",
      "\n",
      " cascade TPR is 1.0\n",
      "\n",
      " cascade FPR is 0.9857792946530148 \n",
      "\n",
      "6 th iteration -> \n",
      " [2219, -370.0, -1, 0.5667466045032574]\n",
      "\n",
      " loss is 0.243517017828201\n",
      "\n",
      " TPR is 0.15352112676056337\n",
      "\n",
      " FPR is 0.0 \n",
      "\n",
      "\n",
      " cascade TPR is 1.0\n",
      "\n",
      " cascade FPR is 0.9863481228668942 \n",
      "\n",
      "7 th iteration -> \n",
      " [2220, -370.0, -1, 0.5667466045032574]\n",
      "\n",
      " loss is 0.2443273905996759\n",
      "\n",
      " TPR is 0.15070422535211267\n",
      "\n",
      " FPR is 0.0 \n",
      "\n",
      "\n",
      " cascade TPR is 1.0\n",
      "\n",
      " cascade FPR is 0.9908987485779295 \n",
      "\n",
      "8 th iteration -> \n",
      " [6985, -1250.0, -1, 0.5645495676753651]\n",
      "\n",
      " loss is 0.24473257698541329\n",
      "\n",
      " TPR is 0.14929577464788732\n",
      "\n",
      " FPR is 0.0 \n",
      "\n",
      "\n",
      " cascade TPR is 1.0\n",
      "\n",
      " cascade FPR is 0.9926052332195677 \n",
      "\n",
      "9 th iteration -> \n",
      " [6945, -1250.0, -1, 0.5634528986553609]\n"
     ]
    }
   ],
   "source": [
    "# the full adaboost program\n",
    "Model = []\n",
    "feature_selected = []\n",
    "weights = np.ones(len(y_train))\n",
    "weights[y_train == 1]  = 0.5*1/(y_train==1).sum()\n",
    "weights[y_train == -1] = 0.5*1/(y_train==-1).sum()\n",
    "\n",
    "for i in range(10):\n",
    "    Model, weights_new, feature_selected = weak_classifier(x_train, y_train, weights, Model, feature_selected)\n",
    "    weights = weights_new\n",
    "    tpr, fpr , y_pred = cascade_dec(x_train, y_train, Model)\n",
    "    \n",
    "    print(i, 'th iteration -> \\n', Model[-1])\n",
    "    \n",
    "    # break condition\n",
    "    if fpr < 0.5:\n",
    "        break"
   ]
  },
  {
   "cell_type": "markdown",
   "id": "f9ecf77b",
   "metadata": {},
   "source": [
    "# Try to implement the AdaBoost classifier with scikit learn"
   ]
  },
  {
   "cell_type": "markdown",
   "id": "fb82e21a",
   "metadata": {},
   "source": [
    "### For training: FP = FN = 0\n",
    "### For testing: FP = 0.048, FN = 0.049"
   ]
  },
  {
   "cell_type": "code",
   "execution_count": 170,
   "id": "9adc6c13",
   "metadata": {},
   "outputs": [
    {
     "data": {
      "text/plain": [
       "AdaBoostClassifier(n_estimators=100, random_state=0)"
      ]
     },
     "execution_count": 170,
     "metadata": {},
     "output_type": "execute_result"
    }
   ],
   "source": [
    "from sklearn.ensemble import AdaBoostClassifier\n",
    "from sklearn.metrics import confusion_matrix\n",
    "clf = AdaBoostClassifier(n_estimators=100, random_state=0)\n",
    "clf.fit(x_train, y_train)"
   ]
  },
  {
   "cell_type": "code",
   "execution_count": 172,
   "id": "063e900a",
   "metadata": {},
   "outputs": [
    {
     "data": {
      "text/plain": [
       "1.0"
      ]
     },
     "execution_count": 172,
     "metadata": {},
     "output_type": "execute_result"
    }
   ],
   "source": [
    "clf.score(x_train, y_train)"
   ]
  },
  {
   "cell_type": "code",
   "execution_count": 174,
   "id": "cd4a93e0",
   "metadata": {},
   "outputs": [
    {
     "data": {
      "text/plain": [
       "array([[1758,    0],\n",
       "       [   0,  710]], dtype=int64)"
      ]
     },
     "execution_count": 174,
     "metadata": {},
     "output_type": "execute_result"
    }
   ],
   "source": [
    "# training result\n",
    "\n",
    "y_pred = clf.predict(x_train)\n",
    "tn, fp, fn, tp = confusion_matrix(y_train, y_pred).ravel()\n",
    "confusion_matrix(y_train, y_pred)"
   ]
  },
  {
   "cell_type": "code",
   "execution_count": 175,
   "id": "fcf5875f",
   "metadata": {},
   "outputs": [
    {
     "data": {
      "text/plain": [
       "array([[432,   8],\n",
       "       [ 22, 156]], dtype=int64)"
      ]
     },
     "execution_count": 175,
     "metadata": {},
     "output_type": "execute_result"
    }
   ],
   "source": [
    "# test result\n",
    "y_pred = clf.predict(x_test)\n",
    "confusion_matrix(y_test, y_pred)"
   ]
  },
  {
   "cell_type": "code",
   "execution_count": 177,
   "id": "ab6e7f14",
   "metadata": {},
   "outputs": [
    {
     "data": {
      "text/plain": [
       "Text(0.5, 1.0, 'accuracy vs stage number')"
      ]
     },
     "execution_count": 177,
     "metadata": {},
     "output_type": "execute_result"
    },
    {
     "data": {
      "image/png": "[encoded data removed]",
      "text/plain": [
       "<Figure size 400x300 with 1 Axes>"
      ]
     },
     "metadata": {},
     "output_type": "display_data"
    }
   ],
   "source": [
    "score = clf.staged_score(x_train,y_train)\n",
    "score_stage = list(score)\n",
    "plt.figure(figsize=(4, 3))\n",
    "plt.plot(score_stage)\n",
    "plt.title('accuracy vs stage number')"
   ]
  },
  {
   "cell_type": "code",
   "execution_count": 181,
   "id": "edad7f2e",
   "metadata": {},
   "outputs": [],
   "source": [
    "feature_list;"
   ]
  },
  {
   "cell_type": "code",
   "execution_count": 185,
   "id": "54a87f43",
   "metadata": {},
   "outputs": [
    {
     "data": {
      "text/plain": [
       "<bound method AdaBoostClassifier.staged_decision_function of AdaBoostClassifier(n_estimators=100, random_state=0)>"
      ]
     },
     "execution_count": 185,
     "metadata": {},
     "output_type": "execute_result"
    }
   ],
   "source": [
    "clf.staged_decision_function"
   ]
  },
  {
   "cell_type": "code",
   "execution_count": 113,
   "id": "d085b9af",
   "metadata": {},
   "outputs": [
    {
     "data": {
      "text/plain": [
       "{'algorithm': 'SAMME.R',\n",
       " 'base_estimator': None,\n",
       " 'learning_rate': 1.0,\n",
       " 'n_estimators': 100,\n",
       " 'random_state': 0}"
      ]
     },
     "execution_count": 113,
     "metadata": {},
     "output_type": "execute_result"
    }
   ],
   "source": [
    "clf.get_params()"
   ]
  },
  {
   "cell_type": "markdown",
   "id": "90569f70",
   "metadata": {},
   "source": [
    "### Reduce the stage number to 50 -- no much change"
   ]
  },
  {
   "cell_type": "code",
   "execution_count": 198,
   "id": "67fafb18",
   "metadata": {},
   "outputs": [
    {
     "data": {
      "text/plain": [
       "AdaBoostClassifier(random_state=0)"
      ]
     },
     "execution_count": 198,
     "metadata": {},
     "output_type": "execute_result"
    }
   ],
   "source": [
    "from sklearn.ensemble import AdaBoostClassifier\n",
    "from sklearn.metrics import confusion_matrix\n",
    "clf = AdaBoostClassifier(n_estimators=50, random_state=0)\n",
    "clf.fit(x_train, y_train)"
   ]
  },
  {
   "cell_type": "code",
   "execution_count": 199,
   "id": "def7bd48",
   "metadata": {},
   "outputs": [
    {
     "data": {
      "text/plain": [
       "array([[1755,    3],\n",
       "       [   4,  706]], dtype=int64)"
      ]
     },
     "execution_count": 199,
     "metadata": {},
     "output_type": "execute_result"
    }
   ],
   "source": [
    "# training result\n",
    "y_pred = clf.predict(x_train)\n",
    "tn, fp, fn, tp = confusion_matrix(y_train, y_pred).ravel()\n",
    "confusion_matrix(y_train, y_pred)"
   ]
  },
  {
   "cell_type": "code",
   "execution_count": 200,
   "id": "a767223a",
   "metadata": {},
   "outputs": [
    {
     "data": {
      "text/plain": [
       "array([[425,  15],\n",
       "       [ 19, 159]], dtype=int64)"
      ]
     },
     "execution_count": 200,
     "metadata": {},
     "output_type": "execute_result"
    }
   ],
   "source": [
    "# test result\n",
    "y_pred = clf.predict(x_test)\n",
    "confusion_matrix(y_test, y_pred)"
   ]
  }
 ],
 "metadata": {
  "kernelspec": {
   "display_name": "Python 3 (ipykernel)",
   "language": "python",
   "name": "python3"
  },
  "language_info": {
   "codemirror_mode": {
    "name": "ipython",
    "version": 3
   },
   "file_extension": ".py",
   "mimetype": "text/x-python",
   "name": "python",
   "nbconvert_exporter": "python",
   "pygments_lexer": "ipython3",
   "version": "3.7.6"
  }
 },
 "nbformat": 4,
 "nbformat_minor": 5
}
